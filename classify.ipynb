{
 "cells": [
  {
   "cell_type": "code",
   "execution_count": 38,
   "metadata": {},
   "outputs": [],
   "source": [
    "import torch\n",
    "from torch.utils.data import Dataset\n",
    "import torchvision\n",
    "from torchvision import datasets\n",
    "import torchvision.transforms as transforms\n",
    "import matplotlib.pyplot as plt\n",
    "import numpy as np\n",
    "import torch.nn as nn\n",
    "import torch.nn.functional as F\n",
    "import torch.optim as optim"
   ]
  },
  {
   "cell_type": "code",
   "execution_count": 39,
   "metadata": {},
   "outputs": [
    {
     "name": "stdout",
     "output_type": "stream",
     "text": [
      "Files already downloaded and verified\n",
      "Files already downloaded and verified\n"
     ]
    }
   ],
   "source": [
    "batch_size = 16\n",
    "epochs = 15\n",
    "transform = transforms.Compose(\n",
    "    [transforms.ToTensor(),\n",
    "     transforms.Normalize(mean = [0.4914, 0.4822, 0.4465], std = [0.2470, 0.2435, 0.2616])])\n",
    "training_data = datasets.CIFAR10(\n",
    "    root=\"data\",\n",
    "    train=True,\n",
    "    download=True,\n",
    "    transform=transform\n",
    ")\n",
    "trainloader = torch.utils.data.DataLoader(training_data, batch_size=batch_size,\n",
    "                                          shuffle=True, num_workers=0)\n",
    "\n",
    "test_data = datasets.CIFAR10(\n",
    "    root=\"data\",\n",
    "    train=False,\n",
    "    download=True,\n",
    "    transform=transform\n",
    ")\n",
    "\n",
    "testloader = torch.utils.data.DataLoader(test_data, batch_size=batch_size,\n",
    "                                         shuffle=False, num_workers=0)\n",
    "classes = ('plane', 'car', 'bird', 'cat',\n",
    "           'deer', 'dog', 'frog', 'horse', 'ship', 'truck')\n",
    "device = torch.device('cuda' if torch.cuda.is_available() else 'cpu')\n"
   ]
  },
  {
   "cell_type": "code",
   "execution_count": 40,
   "metadata": {},
   "outputs": [
    {
     "data": {
      "text/plain": [
       "network_g_19(\n",
       "  (conv1): Conv2d(3, 32, kernel_size=(3, 3), stride=(1, 1), padding=(1, 1))\n",
       "  (conv2): Conv2d(32, 64, kernel_size=(3, 3), stride=(1, 1), padding=(1, 1))\n",
       "  (conv3): Conv2d(64, 128, kernel_size=(3, 3), stride=(1, 1), padding=(1, 1))\n",
       "  (conv4): Conv2d(128, 128, kernel_size=(3, 3), stride=(1, 1), padding=(1, 1))\n",
       "  (conv5): Conv2d(128, 256, kernel_size=(3, 3), stride=(1, 1), padding=(1, 1))\n",
       "  (conv6): Conv2d(256, 256, kernel_size=(3, 3), stride=(1, 1), padding=(1, 1))\n",
       "  (conv7): Conv2d(256, 512, kernel_size=(3, 3), stride=(1, 1), padding=(1, 1))\n",
       "  (conv8): Conv2d(512, 512, kernel_size=(3, 3), stride=(1, 1), padding=(1, 1))\n",
       "  (fc1): Linear(in_features=2048, out_features=1024, bias=True)\n",
       "  (fc2): Linear(in_features=1024, out_features=512, bias=True)\n",
       "  (fc3): Linear(in_features=512, out_features=10, bias=True)\n",
       "  (pool): MaxPool2d(kernel_size=2, stride=2, padding=0, dilation=1, ceil_mode=False)\n",
       "  (bn1): BatchNorm2d(64, eps=1e-05, momentum=0.1, affine=True, track_running_stats=True)\n",
       "  (bn2): BatchNorm2d(128, eps=1e-05, momentum=0.1, affine=True, track_running_stats=True)\n",
       "  (bn3): BatchNorm2d(256, eps=1e-05, momentum=0.1, affine=True, track_running_stats=True)\n",
       "  (bn4): BatchNorm2d(512, eps=1e-05, momentum=0.1, affine=True, track_running_stats=True)\n",
       "  (flatten): Flatten(start_dim=1, end_dim=-1)\n",
       "  (dropout): Dropout(p=0.6, inplace=False)\n",
       ")"
      ]
     },
     "execution_count": 40,
     "metadata": {},
     "output_type": "execute_result"
    }
   ],
   "source": [
    "\n",
    "class network_g_19(nn.Module):\n",
    "    def __init__(self):\n",
    "        super().__init__()\n",
    "        self.conv1 = nn.Conv2d(3, 32, 3, padding = 1)\n",
    "        self.conv2 = nn.Conv2d(32, 64, 3, padding = 1)\n",
    "        self.conv3 = nn.Conv2d(64, 128, 3, padding = 1)\n",
    "        self.conv4 = nn.Conv2d(128, 128, 3, padding = 1)\n",
    "        self.conv5 = nn.Conv2d(128, 256, 3, padding = 1)\n",
    "        self.conv6 = nn.Conv2d(256, 256, 3, padding = 1)\n",
    "        self.conv7 = nn.Conv2d(256, 512, 3, padding = 1)\n",
    "        self.conv8 = nn.Conv2d(512, 512, 3, padding = 1)\n",
    "        self.fc1 = nn.Linear(512 * 2 * 2, 1024)\n",
    "        self.fc2 = nn.Linear(1024, 512)\n",
    "        self.fc3 = nn.Linear(512, 10)\n",
    "        self.pool = nn.MaxPool2d(2, 2)\n",
    "        self.bn1 = nn.BatchNorm2d(64)\n",
    "        self.bn2 = nn.BatchNorm2d(128)\n",
    "        self.bn3 = nn.BatchNorm2d(256)\n",
    "        self.bn4 = nn.BatchNorm2d(512)\n",
    "        self.flatten = nn.Flatten()\n",
    "        self.dropout = nn.Dropout(0.6)\n",
    "\n",
    "    def forward(self, x):\n",
    "        x = F.relu(self.conv1(x))\n",
    "        x = F.relu(self.conv2(x))\n",
    "        x = self.pool(x)\n",
    "        x = self.bn1(x)\n",
    "        x = F.relu(self.conv3(x))\n",
    "        x = F.relu(self.conv4(x))\n",
    "        x = self.pool(x)\n",
    "        x = self.bn2(x)\n",
    "        x = F.relu(self.conv5(x))\n",
    "        x = F.relu(self.conv6(x))\n",
    "        x = self.pool(x)\n",
    "        x = self.bn3(x)\n",
    "        x = F.relu(self.conv7(x))\n",
    "        x = F.relu(self.conv8(x))\n",
    "        x = self.pool(x)\n",
    "        x = self.bn4(x)\n",
    "        x = self.flatten(x)\n",
    "        x = F.relu(self.fc1(x))\n",
    "        x = self.dropout(x)\n",
    "        x = F.relu(self.fc2(x))\n",
    "        x = self.dropout(x)\n",
    "        x = self.fc3(x)\n",
    "        return x\n",
    "\n",
    "net = network_g_19()\n",
    "criterion = nn.CrossEntropyLoss()\n",
    "optimizer = optim.SGD(net.parameters(), lr=0.001, momentum=0.9)\n",
    "net.to(device)\n",
    "criterion.to(device)\n",
    "net"
   ]
  },
  {
   "cell_type": "code",
   "execution_count": 41,
   "metadata": {},
   "outputs": [
    {
     "name": "stdout",
     "output_type": "stream",
     "text": [
      "Epoch 0\n",
      "Training loss : 1.5450557375848293\n",
      "Test loss : 1.004070741701126\n",
      "Test accuracy: 64.97\n",
      "Epoch 1\n",
      "Training loss : 0.8874699869006872\n",
      "Test loss : 0.7835013254165649\n",
      "Test accuracy: 73.67\n",
      "Epoch 2\n",
      "Training loss : 0.6629779868125916\n",
      "Test loss : 0.6751829890012742\n",
      "Test accuracy: 77.61\n",
      "Epoch 3\n",
      "Training loss : 0.5193276408519596\n",
      "Test loss : 0.6321147286891937\n",
      "Test accuracy: 79.34\n",
      "Epoch 4\n",
      "Training loss : 0.41750780437793583\n",
      "Test loss : 0.605705209967494\n",
      "Test accuracy: 80.91\n",
      "Epoch 5\n",
      "Training loss : 0.3283922395859845\n",
      "Test loss : 0.6123945322155953\n",
      "Test accuracy: 80.8\n",
      "Epoch 6\n",
      "Training loss : 0.26094657103245844\n",
      "Test loss : 0.6291764681860804\n",
      "Test accuracy: 81.76\n",
      "Epoch 7\n",
      "Training loss : 0.20948373675422044\n",
      "Test loss : 0.6505448121607303\n",
      "Test accuracy: 81.55\n",
      "Epoch 8\n",
      "Training loss : 0.1605514118160354\n",
      "Test loss : 0.6590014979675413\n",
      "Test accuracy: 82.3\n",
      "Epoch 9\n",
      "Training loss : 0.13676627235485647\n",
      "Test loss : 0.6938493447974324\n",
      "Test accuracy: 81.76\n",
      "Epoch 10\n",
      "Training loss : 0.104737769710453\n",
      "Test loss : 0.7219456979930401\n",
      "Test accuracy: 82.04\n",
      "Epoch 11\n",
      "Training loss : 0.09033014471052593\n",
      "Test loss : 0.7686184707283974\n",
      "Test accuracy: 82.17\n",
      "Epoch 12\n",
      "Training loss : 0.06627077349476894\n",
      "Test loss : 0.743592918419838\n",
      "Test accuracy: 82.15\n",
      "Epoch 13\n",
      "Training loss : 0.06293001114066282\n",
      "Test loss : 0.7628977857120335\n",
      "Test accuracy: 82.88\n",
      "Epoch 14\n",
      "Training loss : 0.053193936635985664\n",
      "Test loss : 0.7902615121095441\n",
      "Test accuracy: 83.44\n",
      "Finished Training\n"
     ]
    }
   ],
   "source": [
    "training_loss_history = []\n",
    "testing_accuracy_history = []\n",
    "testing_loss_history = []\n",
    "for epoch in range(epochs):\n",
    "    print(f\"Epoch {epoch}\")\n",
    "    running_loss = 0.0\n",
    "    for i, data in enumerate(trainloader, 0):\n",
    "        inputs, labels = data\n",
    "        optimizer.zero_grad()\n",
    "        outputs = net(inputs.cuda())\n",
    "        loss = criterion(outputs, labels.cuda())\n",
    "        loss.backward()\n",
    "        optimizer.step()\n",
    "        running_loss += loss.item()\n",
    "        if i % 2000 == 1999:# get mean loss every 2000 mini batches\n",
    "            training_loss_history.append(running_loss / 2000)\n",
    "            print(f\"Training loss : {running_loss / 2000}\")\n",
    "            running_loss = 0.0\n",
    "    correct = 0\n",
    "    total = 0\n",
    "    total_test_loss = 0.0\n",
    "    with torch.no_grad():\n",
    "        for i,  data in enumerate(testloader, 0):\n",
    "            images, labels = data\n",
    "            outputs = net(images.cuda())\n",
    "            _, predicted = torch.max(outputs.data, 1)\n",
    "            total += labels.cuda().size(0)\n",
    "            test_loss = criterion(outputs, labels.cuda())\n",
    "            total_test_loss += test_loss.item()\n",
    "            correct += (predicted == labels.cuda()).sum().item()\n",
    "    testing_loss_history.append(total_test_loss / (len(test_data) / batch_size))\n",
    "    print(f\"Test loss : {total_test_loss / (len(test_data) / batch_size)}\")\n",
    "    total_test_loss = 0\n",
    "    accuracy = 100 * correct / total\n",
    "    testing_accuracy_history.append(accuracy)\n",
    "    print(f\"Test accuracy: {accuracy}\")\n",
    "print('Finished Training')"
   ]
  },
  {
   "cell_type": "markdown",
   "metadata": {},
   "source": [
    "## Final run through the testing dataset to get the overall accuracy reading"
   ]
  },
  {
   "cell_type": "code",
   "execution_count": 45,
   "metadata": {},
   "outputs": [
    {
     "name": "stdout",
     "output_type": "stream",
     "text": [
      "Test accuracy: 83.59 %\n"
     ]
    }
   ],
   "source": [
    "correct = 0\n",
    "total = 0\n",
    "with torch.no_grad():\n",
    "    for data in testloader:\n",
    "        images, labels = data\n",
    "        outputs = net(images.cuda())\n",
    "        _, predicted = torch.max(outputs.data, 1)\n",
    "        total += labels.cuda().size(0)\n",
    "        correct += (predicted == labels.cuda()).sum().item()\n",
    "\n",
    "print(f'Test accuracy: {100 * correct / total} %')"
   ]
  },
  {
   "cell_type": "code",
   "execution_count": 50,
   "metadata": {},
   "outputs": [
    {
     "data": {
      "image/png": "[encoded data removed]",
      "text/plain": [
       "<Figure size 432x288 with 1 Axes>"
      ]
     },
     "metadata": {
      "needs_background": "light"
     },
     "output_type": "display_data"
    }
   ],
   "source": [
    "import seaborn as sns\n",
    "\n",
    "plt.plot(range (1, epochs + 1), training_loss_history, marker = '.', label = \"training loss\")\n",
    "plt.plot(range (1, epochs + 1), testing_loss_history, marker = '.', label = \"testing loss\")\n",
    "plt.xlabel(\"epoch\")\n",
    "plt.ylabel(\"training loss averaged over 2000 mini batches\")\n",
    "plt.legend()\n",
    "plt.savefig(\"training_loss.jpg\")"
   ]
  },
  {
   "cell_type": "code",
   "execution_count": 48,
   "metadata": {},
   "outputs": [
    {
     "data": {
      "image/png": "[encoded data removed]",
      "text/plain": [
       "<Figure size 432x288 with 1 Axes>"
      ]
     },
     "metadata": {
      "needs_background": "light"
     },
     "output_type": "display_data"
    }
   ],
   "source": [
    "plt.plot(range(1, epochs + 1), testing_accuracy_history, marker = '.')\n",
    "plt.xlabel(\"epoch\")\n",
    "plt.ylabel(\"accuracy over testing set\")\n",
    "plt.savefig(\"testing_accuracy.jpg\")"
   ]
  },
  {
   "cell_type": "code",
   "execution_count": 52,
   "metadata": {},
   "outputs": [
    {
     "name": "stdout",
     "output_type": "stream",
     "text": [
      "Accuracy for class: plane is 86.1 %\n",
      "Accuracy for class: car is 90.6 %\n",
      "Accuracy for class: bird is 75.6 %\n",
      "Accuracy for class: cat is 71.6 %\n",
      "Accuracy for class: deer is 79.9 %\n",
      "Accuracy for class: dog is 74.8 %\n",
      "Accuracy for class: frog is 88.6 %\n",
      "Accuracy for class: horse is 87.6 %\n",
      "Accuracy for class: ship is 91.3 %\n",
      "Accuracy for class: truck is 89.8 %\n",
      "83.59\n"
     ]
    }
   ],
   "source": [
    "correct_per_class = {classname: 0 for classname in classes}\n",
    "total_per_class = {classname: 0 for classname in classes}\n",
    "\n",
    "with torch.no_grad():\n",
    "    for data in testloader:\n",
    "        images, labels = data\n",
    "        outputs = net(images.cuda())\n",
    "        _, predictions = torch.max(outputs, 1)\n",
    "        # collect the correct predictions for each class\n",
    "        for label, prediction in zip(labels, predictions):\n",
    "            if label.cuda() == prediction:\n",
    "                correct_per_class[classes[label.cuda()]] += 1\n",
    "            total_per_class[classes[label.cuda()]] += 1\n",
    "\n",
    "\n",
    "for classname, correct_count in correct_per_class.items():\n",
    "    accuracy = 100 * float(correct_count) / total_per_class[classname]\n",
    "    print(f'Accuracy for class: {classname} is {accuracy} %')\n",
    "\n",
    "avg_acc = np.mean([correct_per_class[classname] / total_per_class[classname] for classname in classes])\n",
    "print(avg_acc * 100)\n",
    "\n",
    "\n"
   ]
  },
  {
   "cell_type": "code",
   "execution_count": 53,
   "metadata": {},
   "outputs": [
    {
     "data": {
      "image/png": "[encoded data removed]",
      "text/plain": [
       "<Figure size 432x288 with 1 Axes>"
      ]
     },
     "metadata": {
      "needs_background": "light"
     },
     "output_type": "display_data"
    }
   ],
   "source": [
    "accuracy_by_class = {}\n",
    "for classname in correct_per_class.keys():\n",
    "    accuracy_by_class[classname] = correct_per_class[classname] / total_per_class[classname]\n",
    "plt.bar(accuracy_by_class.keys(), accuracy_by_class.values())\n",
    "plt.xlabel(\"Dataset class\")\n",
    "plt.ylabel(\"prediction accuracy\")\n",
    "plt.savefig(\"acc_by_class.jpg\", transparent = False)"
   ]
  }
 ],
 "metadata": {
  "interpreter": {
   "hash": "3b79c34c0bc451fa60e640cef16a699410f160f3627e84908fe4a419d6ecde43"
  },
  "kernelspec": {
   "display_name": "Python 3.9.6 64-bit",
   "language": "python",
   "name": "python3"
  },
  "language_info": {
   "codemirror_mode": {
    "name": "ipython",
    "version": 3
   },
   "file_extension": ".py",
   "mimetype": "text/x-python",
   "name": "python",
   "nbconvert_exporter": "python",
   "pygments_lexer": "ipython3",
   "version": "3.9.6"
  },
  "orig_nbformat": 4
 },
 "nbformat": 4,
 "nbformat_minor": 2
}
