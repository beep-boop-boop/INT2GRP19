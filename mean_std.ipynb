{
 "cells": [
  {
   "cell_type": "code",
   "execution_count": 35,
   "metadata": {},
   "outputs": [],
   "source": [
    "import torch\n",
    "from torch.utils.data import Dataset\n",
    "import torchvision\n",
    "from torchvision import datasets\n",
    "import torchvision.transforms as transforms\n",
    "import matplotlib.pyplot as plt\n",
    "import numpy as np\n",
    "import torch.nn as nn\n",
    "import torch.nn.functional as F\n",
    "import torch.optim as optim"
   ]
  },
  {
   "cell_type": "code",
   "execution_count": 36,
   "metadata": {},
   "outputs": [
    {
     "name": "stdout",
     "output_type": "stream",
     "text": [
      "Files already downloaded and verified\n",
      "Files already downloaded and verified\n"
     ]
    }
   ],
   "source": [
    "batch_size = 1\n",
    "transform = transforms.Compose(\n",
    "    [transforms.ToTensor()])\n",
    "training_data = datasets.CIFAR10(\n",
    "    root=\"data\",\n",
    "    train=True,\n",
    "    download=True,\n",
    "    transform=transform\n",
    ")\n",
    "trainloader = torch.utils.data.DataLoader(training_data, batch_size=batch_size,\n",
    "                                          shuffle=True, num_workers=0)\n",
    "\n",
    "test_data = datasets.CIFAR10(\n",
    "    root=\"data\",\n",
    "    train=False,\n",
    "    download=True,\n",
    "    transform=transform\n",
    ")\n",
    "\n",
    "testloader = torch.utils.data.DataLoader(test_data, batch_size=batch_size,\n",
    "                                         shuffle=False, num_workers=0)\n",
    "classes = ('plane', 'car', 'bird', 'cat',\n",
    "           'deer', 'dog', 'frog', 'horse', 'ship', 'truck')\n",
    "\n"
   ]
  },
  {
   "cell_type": "code",
   "execution_count": 49,
   "metadata": {},
   "outputs": [
    {
     "name": "stdout",
     "output_type": "stream",
     "text": [
      "[tensor(0.4914), tensor(0.4822), tensor(0.4465)]\n"
     ]
    }
   ],
   "source": [
    "mean_r = 0.0\n",
    "mean_g = 0.0\n",
    "mean_b = 0.0\n",
    "for img, label in training_data:\n",
    "    mean_r += img[0].sum() / (32 * 32) \n",
    "    mean_g += img[1].sum() / (32 * 32)\n",
    "    mean_b += img[2].sum() / (32 * 32)\n",
    "mean_r = mean_r / len(training_data)\n",
    "mean_g = mean_g / len(training_data)\n",
    "mean_b = mean_b / len(training_data)\n",
    "print([mean_r, mean_g, mean_b])"
   ]
  },
  {
   "cell_type": "code",
   "execution_count": 56,
   "metadata": {},
   "outputs": [
    {
     "name": "stdout",
     "output_type": "stream",
     "text": [
      "tensor(0.2470)\n",
      "tensor(0.2435)\n",
      "tensor(0.2616)\n"
     ]
    }
   ],
   "source": [
    "sum_r = 0.0\n",
    "sum_g = 0.0\n",
    "sum_b = 0.0\n",
    "count = 0\n",
    "for img, label in training_data:\n",
    "    sum_r += ((torch.flatten(img[0]) - mean_r) ** 2).sum() / (32 * 32)\n",
    "    sum_g += ((torch.flatten(img[1]) - mean_g) ** 2).sum() / (32 * 32)\n",
    "    sum_b += ((torch.flatten(img[2]) - mean_b) ** 2).sum() / (32 * 32)\n",
    "print((sum_r / len(training_data)) ** 0.5)\n",
    "print((sum_g / len(training_data)) ** 0.5)\n",
    "print((sum_b / len(training_data)) ** 0.5)"
   ]
  }
 ],
 "metadata": {
  "interpreter": {
   "hash": "3b79c34c0bc451fa60e640cef16a699410f160f3627e84908fe4a419d6ecde43"
  },
  "kernelspec": {
   "display_name": "Python 3.9.6 64-bit",
   "language": "python",
   "name": "python3"
  },
  "language_info": {
   "codemirror_mode": {
    "name": "ipython",
    "version": 3
   },
   "file_extension": ".py",
   "mimetype": "text/x-python",
   "name": "python",
   "nbconvert_exporter": "python",
   "pygments_lexer": "ipython3",
   "version": "3.9.6"
  },
  "orig_nbformat": 4
 },
 "nbformat": 4,
 "nbformat_minor": 2
}
